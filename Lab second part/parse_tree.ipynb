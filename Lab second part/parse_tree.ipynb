{
 "cells": [
  {
   "cell_type": "code",
   "execution_count": null,
   "metadata": {},
   "outputs": [
    {
     "name": "stdout",
     "output_type": "stream",
     "text": [
      "Parse Tree for 'a c b d':\n"
     ]
    }
   ],
   "source": [
    "import nltk\n",
    "from nltk import CFG\n",
    "import matplotlib.pyplot as plt\n",
    "\n",
    "grammar = CFG.fromstring(\"\"\"\n",
    "    S -> A B\n",
    "    A -> 'c' | 'a' A\n",
    "    B -> 'd' | 'b' B\n",
    "\"\"\")\n",
    "\n",
    "def parse_string(input_string):\n",
    "    parser = nltk.ChartParser(grammar)\n",
    "    trees = list(parser.parse(input_string.split()))\n",
    "    \n",
    "    \n",
    "    if trees:\n",
    "        return trees[0] \n",
    "    else:\n",
    "        return None\n",
    "\n",
    "def visualize_tree(tree):\n",
    "    # Plot the parse tree using matplotlib\n",
    "    plt.figure(figsize=(10, 5))\n",
    "    tree.draw()  \n",
    "\n",
    "if __name__ == \"__main__\":\n",
    "    input_string = \"a c b d\"  \n",
    "    parse_tree = parse_string(input_string)\n",
    "\n",
    "    if parse_tree:\n",
    "        print(f\"Parse Tree for '{input_string}':\")\n",
    "        visualize_tree(parse_tree)\n",
    "    else:\n",
    "        print(f\"No parse tree found for '{input_string}'.\")\n"
   ]
  }
 ],
 "metadata": {
  "kernelspec": {
   "display_name": "Python 3",
   "language": "python",
   "name": "python3"
  },
  "language_info": {
   "codemirror_mode": {
    "name": "ipython",
    "version": 3
   },
   "file_extension": ".py",
   "mimetype": "text/x-python",
   "name": "python",
   "nbconvert_exporter": "python",
   "pygments_lexer": "ipython3",
   "version": "3.12.1"
  }
 },
 "nbformat": 4,
 "nbformat_minor": 2
}
